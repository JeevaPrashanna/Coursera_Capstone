{
 "cells": [
  {
   "cell_type": "markdown",
   "metadata": {},
   "source": [
    "# Finding a suitable location for opening a restaurant"
   ]
  },
  {
   "cell_type": "markdown",
   "metadata": {},
   "source": [
    "## Problem statement\n",
    "        A restaurants success and failure depends on variety of factors. One of those many factors is its location. The location a restaurant is as important as its quality and taste, besides location of a restaurant is an one-off factor. So it's important that we find a optimal location to run a restaurant. As a data scientist, we are required to properly analyze the location of various neighborhoods in the city and find a proper location to open a restaurant."
   ]
  },
  {
   "cell_type": "markdown",
   "metadata": {},
   "source": [
    "## Data sets to be used:\n",
    " For the given problem I may use the following data sets,\n",
    "   - Canada neighborhood data\n",
    "                            \n",
    "   - Latitude and Longitude data for the corresponding neighborhood\n",
    "                            \n",
    "   - Venue Data"
   ]
  },
  {
   "cell_type": "markdown",
   "metadata": {},
   "source": [
    "## Description on dataset\n",
    "        First, the Canada neighborhood data is available in this wikipedia page https://en.wikipedia.org/wiki/List_of_postal_codes_of_Canada:_M. I will be using a Web scraping tool called BeautifulSoup to scrape the website and develop a data frame. The latitude and longitude dataset is already provided by the IBM team. So i can match the neighborhood in both the dataframes and create a new dataframe. For the venue data, i will be using the foursquare api. I have already created a developer account in the website which gives us access to its venue data. "
   ]
  },
  {
   "cell_type": "code",
   "execution_count": null,
   "metadata": {},
   "outputs": [],
   "source": []
  }
 ],
 "metadata": {
  "kernelspec": {
   "display_name": "Python",
   "language": "python",
   "name": "conda-env-python-py"
  },
  "language_info": {
   "codemirror_mode": {
    "name": "ipython",
    "version": 3
   },
   "file_extension": ".py",
   "mimetype": "text/x-python",
   "name": "python",
   "nbconvert_exporter": "python",
   "pygments_lexer": "ipython3",
   "version": "3.6.10"
  }
 },
 "nbformat": 4,
 "nbformat_minor": 4
}
